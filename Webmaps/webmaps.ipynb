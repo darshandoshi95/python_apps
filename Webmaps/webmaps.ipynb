{
 "cells": [
  {
   "cell_type": "code",
   "execution_count": 1,
   "metadata": {},
   "outputs": [
    {
     "name": "stdout",
     "output_type": "stream",
     "text": [
      "Collecting folium\n",
      "  Downloading https://files.pythonhosted.org/packages/07/37/456fb3699ed23caa0011f8b90d9cad94445eddc656b601e6268090de35f5/folium-0.5.0.tar.gz (79kB)\n",
      "Collecting branca (from folium)\n",
      "  Downloading https://files.pythonhosted.org/packages/b5/18/13c018655f722896f25791f1db687db5671bd79285e05b3dd8c309b36414/branca-0.3.0-py3-none-any.whl\n",
      "Requirement already satisfied: jinja2 in /anaconda3/lib/python3.6/site-packages (from folium)\n",
      "Requirement already satisfied: requests in /anaconda3/lib/python3.6/site-packages (from folium)\n",
      "Requirement already satisfied: six in /anaconda3/lib/python3.6/site-packages (from folium)\n",
      "Requirement already satisfied: MarkupSafe>=0.23 in /anaconda3/lib/python3.6/site-packages (from jinja2->folium)\n",
      "Requirement already satisfied: chardet<3.1.0,>=3.0.2 in /anaconda3/lib/python3.6/site-packages (from requests->folium)\n",
      "Requirement already satisfied: idna<2.7,>=2.5 in /anaconda3/lib/python3.6/site-packages (from requests->folium)\n",
      "Requirement already satisfied: urllib3<1.23,>=1.21.1 in /anaconda3/lib/python3.6/site-packages (from requests->folium)\n",
      "Requirement already satisfied: certifi>=2017.4.17 in /anaconda3/lib/python3.6/site-packages (from requests->folium)\n",
      "Building wheels for collected packages: folium\n",
      "  Running setup.py bdist_wheel for folium: started\n",
      "  Running setup.py bdist_wheel for folium: finished with status 'done'\n",
      "  Stored in directory: /Users/darshandoshi/Library/Caches/pip/wheels/f8/98/ff/954791afc47740d554f0d9e5885fa09dd60c2265d42578e665\n",
      "Successfully built folium\n",
      "Installing collected packages: branca, folium\n",
      "Successfully installed branca-0.3.0 folium-0.5.0\n"
     ]
    },
    {
     "name": "stderr",
     "output_type": "stream",
     "text": [
      "You are using pip version 10.0.1, however version 18.0 is available.\n",
      "You should consider upgrading via the 'pip install --upgrade pip' command.\n"
     ]
    },
    {
     "data": {
      "text/plain": [
       "0"
      ]
     },
     "execution_count": 1,
     "metadata": {},
     "output_type": "execute_result"
    }
   ],
   "source": [
    "import pip\n",
    "pip.main(['install', 'folium'])"
   ]
  },
  {
   "cell_type": "code",
   "execution_count": 3,
   "metadata": {},
   "outputs": [],
   "source": [
    "import folium\n",
    "import pandas"
   ]
  },
  {
   "cell_type": "code",
   "execution_count": 4,
   "metadata": {},
   "outputs": [],
   "source": [
    "map=folium.Map(location=[19.1726,72.9425],zoom_start=20)\n",
    "map.save(\"map1.html\")"
   ]
  },
  {
   "cell_type": "markdown",
   "metadata": {},
   "source": [
    "#adding points to map"
   ]
  },
  {
   "cell_type": "code",
   "execution_count": 5,
   "metadata": {},
   "outputs": [],
   "source": [
    "map=folium.Map(location=[19.1726,72.9425],zoom_start=6,tiles=\"Mapbox Bright\")\n",
    "fg=folium.FeatureGroup(name='marker')\n",
    "fg.add_child(folium.Marker([19.1726,72.9425],popup=\"Home\",icon=folium.Icon(color=\"green\")))\n",
    "map.add_child(fg)\n",
    "map.save(\"map2.html\")"
   ]
  },
  {
   "cell_type": "code",
   "execution_count": 6,
   "metadata": {},
   "outputs": [],
   "source": [
    "#load locations from a file"
   ]
  },
  {
   "cell_type": "code",
   "execution_count": 7,
   "metadata": {},
   "outputs": [],
   "source": [
    "data=pandas.read_csv(\"/Users/darshandoshi/Desktop/git-repositiories/python_apps/Webmaps/app2-web-map/Volcanoes_USA.txt\")"
   ]
  },
  {
   "cell_type": "code",
   "execution_count": null,
   "metadata": {},
   "outputs": [],
   "source": []
  },
  {
   "cell_type": "code",
   "execution_count": 11,
   "metadata": {},
   "outputs": [],
   "source": [
    "fg1=folium.FeatureGroup(name='marker')\n",
    "for row in data.itertuples(index=True, name='Pandas'):\n",
    "    fg1.add_child(folium.Marker([getattr(row, \"LAT\"),getattr(row, \"LON\")],popup=str(getattr(row,\"ELEV\")),icon=folium.Icon(color_produce(getattr(row,\"ELEV\")))))\n",
    "    map.add_child(fg1)\n",
    "map.save(\"map3.html\")"
   ]
  },
  {
   "cell_type": "code",
   "execution_count": 12,
   "metadata": {},
   "outputs": [],
   "source": [
    "def color_produce(elev):\n",
    "    if elev<2000:\n",
    "        return \"green\"\n",
    "    elif  2000<elev<4000:\n",
    "        return \"orange\"\n",
    "    else:\n",
    "        return \"red\"\n",
    "    "
   ]
  },
  {
   "cell_type": "code",
   "execution_count": 13,
   "metadata": {},
   "outputs": [
    {
     "data": {
      "text/plain": [
       "['Circle',\n",
       " 'CircleMarker',\n",
       " 'ClickForMarker',\n",
       " 'ColorMap',\n",
       " 'CssLink',\n",
       " 'CustomIcon',\n",
       " 'Div',\n",
       " 'DivIcon',\n",
       " 'Element',\n",
       " 'FeatureGroup',\n",
       " 'Figure',\n",
       " 'FitBounds',\n",
       " 'GeoJson',\n",
       " 'Html',\n",
       " 'IFrame',\n",
       " 'Icon',\n",
       " 'JavascriptLink',\n",
       " 'LatLngPopup',\n",
       " 'LayerControl',\n",
       " 'LinearColormap',\n",
       " 'Link',\n",
       " 'MacroElement',\n",
       " 'Map',\n",
       " 'Marker',\n",
       " 'PolyLine',\n",
       " 'Popup',\n",
       " 'RegularPolygonMarker',\n",
       " 'StepColormap',\n",
       " 'TileLayer',\n",
       " 'TopoJson',\n",
       " 'Vega',\n",
       " 'VegaLite',\n",
       " 'WmsTileLayer',\n",
       " '__all__',\n",
       " '__builtins__',\n",
       " '__cached__',\n",
       " '__doc__',\n",
       " '__file__',\n",
       " '__loader__',\n",
       " '__name__',\n",
       " '__package__',\n",
       " '__path__',\n",
       " '__spec__',\n",
       " '__version__',\n",
       " '_version',\n",
       " 'absolute_import',\n",
       " 'division',\n",
       " 'features',\n",
       " 'folium',\n",
       " 'map',\n",
       " 'print_function',\n",
       " 'utilities']"
      ]
     },
     "execution_count": 13,
     "metadata": {},
     "output_type": "execute_result"
    }
   ],
   "source": [
    "dir(folium)"
   ]
  },
  {
   "cell_type": "code",
   "execution_count": 14,
   "metadata": {},
   "outputs": [
    {
     "name": "stdout",
     "output_type": "stream",
     "text": [
      "Help on class Circle in module folium.features:\n",
      "\n",
      "class Circle(folium.map.Marker)\n",
      " |  Creates a Circle object for plotting on a Map.\n",
      " |  \n",
      " |  Parameters\n",
      " |  ----------\n",
      " |  location: tuple or list\n",
      " |      Latitude and Longitude of Marker (Northing, Easting)\n",
      " |  radius: int\n",
      " |      The radius of the circle in meters.\n",
      " |      For setting the radius in pixel, use CircleMarker.\n",
      " |  color: str, default '#3388ff'\n",
      " |      The color of the marker's edge in a HTML-compatible format.\n",
      " |  fill: bool, default False\n",
      " |      If true the circle will be filled.\n",
      " |  fill_color: str, default to the same as color\n",
      " |      The fill color of the marker in a HTML-compatible format.\n",
      " |  fill_opacity: float, default 0.2\n",
      " |      The fill opacity of the marker, between 0. and 1.\n",
      " |  popup: string or folium.Popup, default None\n",
      " |      Input text or visualization for object.\n",
      " |  \n",
      " |  See http://leafletjs.com/reference-1.2.0.html#path for more otions.\n",
      " |  \n",
      " |  Method resolution order:\n",
      " |      Circle\n",
      " |      folium.map.Marker\n",
      " |      branca.element.MacroElement\n",
      " |      branca.element.Element\n",
      " |      builtins.object\n",
      " |  \n",
      " |  Methods defined here:\n",
      " |  \n",
      " |  __init__(self, location, radius=10, popup=None, **kwargs)\n",
      " |      Initialize self.  See help(type(self)) for accurate signature.\n",
      " |  \n",
      " |  ----------------------------------------------------------------------\n",
      " |  Methods inherited from branca.element.MacroElement:\n",
      " |  \n",
      " |  render(self, **kwargs)\n",
      " |      Renders the HTML representation of the element.\n",
      " |  \n",
      " |  ----------------------------------------------------------------------\n",
      " |  Methods inherited from branca.element.Element:\n",
      " |  \n",
      " |  add_child(self, child, name=None, index=None)\n",
      " |      Add a child.\n",
      " |  \n",
      " |  add_children(self, child, name=None, index=None)\n",
      " |      Add a child.\n",
      " |  \n",
      " |  add_to(self, parent, name=None, index=None)\n",
      " |      Add element to a parent.\n",
      " |  \n",
      " |  get_bounds(self)\n",
      " |      Computes the bounds of the object and all it's children\n",
      " |      in the form [[lat_min, lon_min], [lat_max, lon_max]].\n",
      " |  \n",
      " |  get_name(self)\n",
      " |      Returns a string representation of the object.\n",
      " |      This string has to be unique and to be a python and\n",
      " |      javascript-compatible\n",
      " |      variable name.\n",
      " |  \n",
      " |  get_root(self)\n",
      " |      Returns the root of the elements tree.\n",
      " |  \n",
      " |  save(self, outfile, close_file=True, **kwargs)\n",
      " |      Saves an Element into a file.\n",
      " |      \n",
      " |      Parameters\n",
      " |      ----------\n",
      " |      outfile : str or file object\n",
      " |          The file (or filename) where you want to output the html.\n",
      " |      close_file : bool, default True\n",
      " |          Whether the file has to be closed after write.\n",
      " |  \n",
      " |  to_dict(self, depth=-1, ordered=True, **kwargs)\n",
      " |      Returns a dict representation of the object.\n",
      " |  \n",
      " |  to_json(self, depth=-1, **kwargs)\n",
      " |      Returns a JSON representation of the object.\n",
      " |  \n",
      " |  ----------------------------------------------------------------------\n",
      " |  Data descriptors inherited from branca.element.Element:\n",
      " |  \n",
      " |  __dict__\n",
      " |      dictionary for instance variables (if defined)\n",
      " |  \n",
      " |  __weakref__\n",
      " |      list of weak references to the object (if defined)\n",
      "\n"
     ]
    }
   ],
   "source": [
    "help(folium.Circle)"
   ]
  },
  {
   "cell_type": "code",
   "execution_count": 15,
   "metadata": {},
   "outputs": [],
   "source": [
    "map1=folium.Map(location=[48.776798,-121.810997],zoom_start=6,tiles=\"Mapbox Bright\")\n",
    "fg2=folium.FeatureGroup(name='marker')\n",
    "for row in data.itertuples(index=True, name='Pandas'):\n",
    "    fg2.add_child(folium.CircleMarker([getattr(row, \"LAT\"),getattr(row, \"LON\")],radius=6,color=\"grey\",fill_color=color_produce(getattr(row,\"ELEV\")),popup=str(getattr(row,\"ELEV\")),fill_opacity=0.7,fill=True))\n",
    "\n",
    "fg2.add_child(folium.GeoJson(data=open(\"/Users/darshandoshi/Desktop/git-repositiories/python_apps/Webmaps/app2-web-map/world.json\",'r',encoding=\"utf-8-sig\").read(),style_function=lambda x: {'fillColor':'green' if x['properties']['POP2005']<20000000 \n",
    "                         else 'yellow' if 2000000 < x['properties']['POP2005'] < 40000000\n",
    "                        else 'red'}))\n",
    "map1.add_child(fg2)\n",
    "map1.add_child(folium.LayerControl())\n",
    "map1.save(\"map4.html\")"
   ]
  },
  {
   "cell_type": "code",
   "execution_count": null,
   "metadata": {},
   "outputs": [],
   "source": []
  }
 ],
 "metadata": {
  "kernelspec": {
   "display_name": "Python 3",
   "language": "python",
   "name": "python3"
  },
  "language_info": {
   "codemirror_mode": {
    "name": "ipython",
    "version": 3
   },
   "file_extension": ".py",
   "mimetype": "text/x-python",
   "name": "python",
   "nbconvert_exporter": "python",
   "pygments_lexer": "ipython3",
   "version": "3.6.3"
  }
 },
 "nbformat": 4,
 "nbformat_minor": 2
}
