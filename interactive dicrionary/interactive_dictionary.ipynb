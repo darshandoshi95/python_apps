{
 "cells": [
  {
   "cell_type": "code",
   "execution_count": 25,
   "metadata": {
    "collapsed": true
   },
   "outputs": [],
   "source": [
    "#interactive vocabulary app"
   ]
  },
  {
   "cell_type": "code",
   "execution_count": 61,
   "metadata": {},
   "outputs": [],
   "source": [
    "import json\n",
    "import difflib\n",
    "from difflib import get_close_matches"
   ]
  },
  {
   "cell_type": "code",
   "execution_count": 47,
   "metadata": {},
   "outputs": [],
   "source": [
    "def load_json():\n",
    "    words=json.load(open(\"/Users/darshandoshi/Desktop/git-repositiories/interactive dicrionary/data.json\"))\n",
    "        "
   ]
  },
  {
   "cell_type": "code",
   "execution_count": 73,
   "metadata": {},
   "outputs": [],
   "source": [
    "def search(word):\n",
    "    word=word.lower()\n",
    "    if word in words:\n",
    "        return words[word]\n",
    "    elif word.title() in words:\n",
    "        return words[word.title()]\n",
    "    elif word.upper() in words:\n",
    "        return words[word.upper()]\n",
    "    elif len(get_close_matches(word,words.keys(),cutoff=0.8))>0:\n",
    "        yn=input(\"Did you mean %s ? Enter 'Y' for yes and 'N' for no: \" %get_close_matches(word,words.keys())[0])\n",
    "        if yn=='Y':\n",
    "            return words[get_close_matches(word,words.keys())[0]]\n",
    "        elif yn== 'N':\n",
    "            return \"word doesnot exist, try another word\"\n",
    "        else:\n",
    "            return \"Enter correct option\"\n",
    "        \n",
    "    else:\n",
    "        return \"Word doesnot exist, try another word\"\n",
    "    \n"
   ]
  },
  {
   "cell_type": "code",
   "execution_count": 72,
   "metadata": {},
   "outputs": [
    {
     "name": "stdout",
     "output_type": "stream",
     "text": [
      "Enter word: rain\n",
      "Precipitation in the form of liquid water drops with diameters greater than 0.5 millimetres.\n",
      "To fall from the clouds in drops of water.\n"
     ]
    }
   ],
   "source": [
    "load_json()\n",
    "output=search(input(\"Enter word: \"))\n",
    "if type(output)==list:\n",
    "    for i in output:\n",
    "        print(i)\n",
    "else:\n",
    "    print(output)"
   ]
  },
  {
   "cell_type": "code",
   "execution_count": null,
   "metadata": {
    "collapsed": true
   },
   "outputs": [],
   "source": []
  },
  {
   "cell_type": "code",
   "execution_count": null,
   "metadata": {
    "collapsed": true
   },
   "outputs": [],
   "source": []
  }
 ],
 "metadata": {
  "kernelspec": {
   "display_name": "Python 3",
   "language": "python",
   "name": "python3"
  },
  "language_info": {
   "codemirror_mode": {
    "name": "ipython",
    "version": 3
   },
   "file_extension": ".py",
   "mimetype": "text/x-python",
   "name": "python",
   "nbconvert_exporter": "python",
   "pygments_lexer": "ipython3",
   "version": "3.6.3"
  }
 },
 "nbformat": 4,
 "nbformat_minor": 2
}
